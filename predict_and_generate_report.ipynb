{
 "cells": [
  {
   "cell_type": "markdown",
   "metadata": {},
   "source": [
    "# Predict New Data"
   ]
  },
  {
   "cell_type": "code",
   "execution_count": 1,
   "metadata": {},
   "outputs": [],
   "source": [
    "from helper import generate_data"
   ]
  },
  {
   "cell_type": "code",
   "execution_count": 10,
   "metadata": {},
   "outputs": [],
   "source": [
    "df_new_data = generate_data(20, seed=123)\n",
    "df_new_data.drop(columns=['Risiko Stunting'], inplace=True)"
   ]
  },
  {
   "cell_type": "code",
   "execution_count": 11,
   "metadata": {},
   "outputs": [
    {
     "name": "stdout",
     "output_type": "stream",
     "text": [
      "Transformation Pipeline and Model Successfully Loaded\n",
      "Pipeline(memory=Memory(location=None),\n",
      "         steps=[('clean_column_names',\n",
      "                 TransformerWrapper(transformer=CleanColumnNames())),\n",
      "                ('trained_model',\n",
      "                 LogisticRegression(max_iter=1000, random_state=6820))])\n"
     ]
    }
   ],
   "source": [
    "from pycaret.classification import *\n",
    "loaded_bestmodel = load_model('best-model')\n",
    "print(loaded_bestmodel)"
   ]
  },
  {
   "cell_type": "code",
   "execution_count": 12,
   "metadata": {},
   "outputs": [],
   "source": [
    "predicted_data = predict_model(loaded_bestmodel, data = df_new_data)"
   ]
  },
  {
   "cell_type": "code",
   "execution_count": 14,
   "metadata": {},
   "outputs": [
    {
     "data": {
      "text/html": [
       "<div>\n",
       "<style scoped>\n",
       "    .dataframe tbody tr th:only-of-type {\n",
       "        vertical-align: middle;\n",
       "    }\n",
       "\n",
       "    .dataframe tbody tr th {\n",
       "        vertical-align: top;\n",
       "    }\n",
       "\n",
       "    .dataframe thead th {\n",
       "        text-align: right;\n",
       "    }\n",
       "</style>\n",
       "<table border=\"1\" class=\"dataframe\">\n",
       "  <thead>\n",
       "    <tr style=\"text-align: right;\">\n",
       "      <th></th>\n",
       "      <th>ID Anak</th>\n",
       "      <th>Usia (bulan)</th>\n",
       "      <th>Berat Badan (kg)</th>\n",
       "      <th>Tinggi Badan (cm)</th>\n",
       "      <th>Asupan Gizi (Kcal/hari)</th>\n",
       "      <th>Kualitas Air (%)</th>\n",
       "      <th>Status Ekonomi</th>\n",
       "      <th>Akses Fasilitas Kesehatan</th>\n",
       "      <th>Riwayat Kesehatan</th>\n",
       "      <th>prediction_label</th>\n",
       "      <th>prediction_score</th>\n",
       "    </tr>\n",
       "  </thead>\n",
       "  <tbody>\n",
       "    <tr>\n",
       "      <th>0</th>\n",
       "      <td>1</td>\n",
       "      <td>52</td>\n",
       "      <td>15.8</td>\n",
       "      <td>98.699997</td>\n",
       "      <td>1365</td>\n",
       "      <td>88</td>\n",
       "      <td>3</td>\n",
       "      <td>1</td>\n",
       "      <td>1</td>\n",
       "      <td>0</td>\n",
       "      <td>1.0</td>\n",
       "    </tr>\n",
       "    <tr>\n",
       "      <th>1</th>\n",
       "      <td>2</td>\n",
       "      <td>38</td>\n",
       "      <td>9.5</td>\n",
       "      <td>72.800003</td>\n",
       "      <td>997</td>\n",
       "      <td>75</td>\n",
       "      <td>2</td>\n",
       "      <td>0</td>\n",
       "      <td>1</td>\n",
       "      <td>1</td>\n",
       "      <td>1.0</td>\n",
       "    </tr>\n",
       "    <tr>\n",
       "      <th>2</th>\n",
       "      <td>3</td>\n",
       "      <td>53</td>\n",
       "      <td>15.8</td>\n",
       "      <td>105.300003</td>\n",
       "      <td>1498</td>\n",
       "      <td>90</td>\n",
       "      <td>3</td>\n",
       "      <td>1</td>\n",
       "      <td>1</td>\n",
       "      <td>0</td>\n",
       "      <td>1.0</td>\n",
       "    </tr>\n",
       "    <tr>\n",
       "      <th>3</th>\n",
       "      <td>4</td>\n",
       "      <td>31</td>\n",
       "      <td>12.6</td>\n",
       "      <td>82.500000</td>\n",
       "      <td>1340</td>\n",
       "      <td>96</td>\n",
       "      <td>3</td>\n",
       "      <td>1</td>\n",
       "      <td>1</td>\n",
       "      <td>0</td>\n",
       "      <td>1.0</td>\n",
       "    </tr>\n",
       "    <tr>\n",
       "      <th>4</th>\n",
       "      <td>5</td>\n",
       "      <td>25</td>\n",
       "      <td>12.9</td>\n",
       "      <td>102.900002</td>\n",
       "      <td>1376</td>\n",
       "      <td>91</td>\n",
       "      <td>3</td>\n",
       "      <td>1</td>\n",
       "      <td>1</td>\n",
       "      <td>0</td>\n",
       "      <td>1.0</td>\n",
       "    </tr>\n",
       "  </tbody>\n",
       "</table>\n",
       "</div>"
      ],
      "text/plain": [
       "   ID Anak  Usia (bulan)  Berat Badan (kg)  Tinggi Badan (cm)  \\\n",
       "0        1            52              15.8          98.699997   \n",
       "1        2            38               9.5          72.800003   \n",
       "2        3            53              15.8         105.300003   \n",
       "3        4            31              12.6          82.500000   \n",
       "4        5            25              12.9         102.900002   \n",
       "\n",
       "   Asupan Gizi (Kcal/hari)  Kualitas Air (%)  Status Ekonomi  \\\n",
       "0                     1365                88               3   \n",
       "1                      997                75               2   \n",
       "2                     1498                90               3   \n",
       "3                     1340                96               3   \n",
       "4                     1376                91               3   \n",
       "\n",
       "   Akses Fasilitas Kesehatan  Riwayat Kesehatan  prediction_label  \\\n",
       "0                          1                  1                 0   \n",
       "1                          0                  1                 1   \n",
       "2                          1                  1                 0   \n",
       "3                          1                  1                 0   \n",
       "4                          1                  1                 0   \n",
       "\n",
       "   prediction_score  \n",
       "0               1.0  \n",
       "1               1.0  \n",
       "2               1.0  \n",
       "3               1.0  \n",
       "4               1.0  "
      ]
     },
     "execution_count": 14,
     "metadata": {},
     "output_type": "execute_result"
    }
   ],
   "source": [
    "predicted_data.head()"
   ]
  },
  {
   "cell_type": "markdown",
   "metadata": {},
   "source": [
    "# Pandas to Markdown"
   ]
  },
  {
   "cell_type": "code",
   "execution_count": 22,
   "metadata": {},
   "outputs": [
    {
     "name": "stdout",
     "output_type": "stream",
     "text": [
      "|    |   ID Anak |   Usia (bulan) |   Berat Badan (kg) |   Tinggi Badan (cm) |   Asupan Gizi (Kcal/hari) |   Kualitas Air (%) |   Status Ekonomi |   Akses Fasilitas Kesehatan |   Riwayat Kesehatan |   Risiko Stunting |\n",
      "|---:|----------:|---------------:|-------------------:|--------------------:|--------------------------:|-------------------:|-----------------:|----------------------------:|--------------------:|------------------:|\n",
      "|  0 |         1 |             52 |               15.8 |                98.7 |                      1365 |                 88 |                3 |                           1 |                   1 |                 0 |\n",
      "|  1 |         2 |             38 |                9.5 |                72.8 |                       997 |                 75 |                2 |                           0 |                   1 |                 1 |\n",
      "|  2 |         3 |             53 |               15.8 |               105.3 |                      1498 |                 90 |                3 |                           1 |                   1 |                 0 |\n",
      "|  3 |         4 |             31 |               12.6 |                82.5 |                      1340 |                 96 |                3 |                           1 |                   1 |                 0 |\n",
      "|  4 |         5 |             25 |               12.9 |               102.9 |                      1376 |                 91 |                3 |                           1 |                   1 |                 0 |\n",
      "|  5 |         6 |             20 |               11.8 |                87.3 |                      1453 |                 85 |                3 |                           1 |                   1 |                 0 |\n",
      "|  6 |         7 |             42 |               12.3 |                85.8 |                      1423 |                 93 |                3 |                           1 |                   1 |                 0 |\n",
      "|  7 |         8 |             38 |               10.7 |                73   |                      1074 |                 63 |                1 |                           0 |                   0 |                 1 |\n",
      "|  8 |         9 |             22 |                7.7 |                79.1 |                       973 |                 83 |                1 |                           0 |                   0 |                 1 |\n",
      "|  9 |        10 |             10 |               13.5 |               106.6 |                      1551 |                 89 |                3 |                           1 |                   1 |                 0 |\n",
      "| 10 |        11 |             55 |               10.6 |                72.1 |                      1095 |                 62 |                2 |                           0 |                   1 |                 1 |\n",
      "| 11 |        12 |              9 |               10.3 |                80.3 |                      1039 |                 65 |                2 |                           1 |                   0 |                 1 |\n",
      "| 12 |        13 |              8 |               13.4 |                80.5 |                      1469 |                 85 |                2 |                           1 |                   1 |                 0 |\n",
      "| 13 |        14 |             26 |                8.8 |                78.8 |                       945 |                 83 |                2 |                           0 |                   1 |                 1 |\n",
      "| 14 |        15 |             45 |               13.4 |                96.7 |                      1363 |                 97 |                2 |                           1 |                   1 |                 0 |\n",
      "| 15 |        16 |              8 |               11.1 |                73   |                      1087 |                 77 |                2 |                           0 |                   0 |                 1 |\n",
      "| 16 |        17 |             26 |               17.6 |                84.6 |                      1317 |                 87 |                3 |                           1 |                   1 |                 0 |\n",
      "| 17 |        18 |             53 |               10.1 |                71.9 |                      1183 |                 73 |                2 |                           0 |                   0 |                 1 |\n",
      "| 18 |        19 |             54 |               11   |                75.3 |                      1010 |                 70 |                2 |                           1 |                   0 |                 1 |\n",
      "| 19 |        20 |             13 |               10.9 |               100.8 |                      1515 |                 90 |                2 |                           1 |                   1 |                 0 |\n"
     ]
    }
   ],
   "source": [
    "predicted_data.drop(columns=['prediction_score'], inplace=True)\n",
    "predicted_data.rename(columns={'prediction_label': 'Risiko Stunting'}, inplace=True)\n",
    "markdown_table = predicted_data.to_markdown()\n",
    "print(markdown_table)"
   ]
  },
  {
   "cell_type": "markdown",
   "metadata": {},
   "source": [
    "# Generate Report"
   ]
  },
  {
   "cell_type": "code",
   "execution_count": 23,
   "metadata": {},
   "outputs": [],
   "source": [
    "from openai import OpenAI\n",
    "api_key = \"sk-*\"\n",
    "client = OpenAI(api_key=api_key)\n"
   ]
  },
  {
   "cell_type": "code",
   "execution_count": 29,
   "metadata": {},
   "outputs": [],
   "source": [
    "system_prompt = \"\"\"You are a healthcare professional and an expert in the field. Your responsibility is \"pencegah stunting & peningkatan gizi anak sekolah.\" You will create a report based on the predictive data on the \"risiko stunting\" for children that I provide. Here is an explanation of each column:\n",
    "1. ID Anak: Identification number of the child.\n",
    "2 .Usia (bulan): Age of the child in months.\n",
    "3. Berat Badan (kg): Weight of the child in kilograms.\n",
    "4. Tinggi Badan (cm): Height of the child in centimeters.\n",
    "5. Asupan Gizi (Kcal/hari): Number of calories consumed by the child daily.\n",
    "6. Kualitas Air (%): Percentage of access to clean and proper water.\n",
    "7. Status Ekonomi: Economic category of the child’s family (1: rendah, 2: sedang, 3: tinggi).\n",
    "8. Akses Fasilitas Kesehatan: Indicates if the child has access to good healthcare facilities (1: baik, 0: buruk).\n",
    "9. Riwayat Kesehatan: Health history of the child (1: baik, 0: buruk).\n",
    "10. Risiko Stunting: Target label indicating if the child is at risk of stunting (1: ya, 0: tidak).\n",
    "\n",
    "The following points should be presented in the report:\n",
    "1. Explanation of the Stunting Risk Prediction Results.\n",
    "2. Risk Factor Analysis.\n",
    "3. Recommendations for Stunting Prevention based on the analysis.\n",
    "4. Conclusion.\n",
    "\"\"\"\n",
    "\n",
    "user_prompt = f\"Berikut data dari daerah X\\n{markdown_table}\"\n",
    "\n",
    "messages = [\n",
    "    {\"role\": \"system\", \"content\": system_prompt},\n",
    "    {\"role\": \"user\", \"content\": user_prompt},\n",
    "]\n",
    "\n",
    "chat_completion = client.chat.completions.create(\n",
    "    model=\"gpt-4o-mini\",\n",
    "    messages=messages,\n",
    "    temperature=0.9\n",
    ")"
   ]
  },
  {
   "cell_type": "markdown",
   "metadata": {},
   "source": [
    "# Print Report"
   ]
  },
  {
   "cell_type": "code",
   "execution_count": 37,
   "metadata": {},
   "outputs": [
    {
     "name": "stdout",
     "output_type": "stream",
     "text": [
      "# Laporan Risiko Stunting Anak di Daerah X\n",
      "\n",
      "## 1. Penjelasan Hasil Prediksi Risiko Stunting\n",
      "Hasil prediksi menunjukkan bahwa dari 20 anak yang dianalisis, terdapat 8 anak yang berisiko stunting (40%).\n",
      "Prediksi risiko stunting didasarkan pada faktor-faktor seperti usia, berat badan, tinggi badan, asupan gizi, kualitas air, status ekonomi, akses fasilitas kesehatan, dan riwayat kesehatan. Anak-anak\n",
      "yang memiliki kekurangan berat badan dan tinggi badan relatif di bawah standar pertumbuhan, serta asupan gizi yang kurang memadai, lebih cenderung berada dalam kategori risiko stunting.\n",
      "\n",
      "## 2.\n",
      "Analisis Faktor Risiko\n",
      "Berdasarkan data yang terkumpul, beberapa faktor yang menunjukkan pengaruh signifikan terhadap risiko stunting antara lain:\n",
      "- **Usia**: Anak-anak yang lebih muda (di bawah 2\n",
      "tahun) menunjukkan risiko yang lebih tinggi terhadap stunting.\n",
      "- **Berat Badan dan Tinggi Badan**: Anak-anak yang memiliki berat dan tinggi badan yang rendah dibandingkan dengan standar pertumbuhan\n",
      "memiliki risiko stunting yang lebih tinggi.\n",
      "- **Asupan Gizi**: Mayoritas anak yang berisiko stunting memiliki asupan kalori di bawah 1100 Kcal/hari, yang dianggap tidak mencukupi untuk pertumbuhan\n",
      "yang optimal.\n",
      "- **Kualitas Air**: Anak-anak dengan akses ke kualitas air di bawah 80% memiliki risiko stunting yang lebih tinggi.\n",
      "- **Status Ekonomi**: Anak-anak dari keluarga berstatus ekonomi rendah\n",
      "(kategori 1) mengalami risiko stunting yang lebih besar.\n",
      "- **Akses Fasilitas Kesehatan**: Anak-anak yang tidak memiliki akses ke fasilitas kesehatan yang baik cenderung mengalami masalah kesehatan\n",
      "yang dapat berkontribusi pada risiko stunting.\n",
      "- **Riwayat Kesehatan**: Anak-anak dengan riwayat kesehatan buruk memiliki kemungkinan lebih besar untuk mengalami stunting.\n",
      "\n",
      "## 3. Rekomendasi untuk\n",
      "Pencegahan Stunting\n",
      "Berdasarkan analisis di atas, beberapa rekomendasi untuk mencegah stunting pada anak di daerah X adalah sebagai berikut:\n",
      "- **Peningkatan Asupan Gizi**: Melakukan program pemberian\n",
      "makanan tambahan (PMT) untuk anak di daerah berisiko, khususnya mereka yang memiliki asupan kalori di bawah standar.\n",
      "- **Edukasi Gizi untuk Keluarga**: Meningkatkan pemahaman orangtua tentang nutrisi\n",
      "yang tepat untuk anak, termasuk pentingnya makanan bergizi dan kaya kalori.\n",
      "- **Penyediaan Air Bersih dan Sanitasi**: Meningkatkan akses masyarakat terhadap air bersih dan sanitasi yang baik untuk\n",
      "mencegah infeksi yang dapat mempengaruhi pertumbuhan anak.\n",
      "- **Akses Layanan Kesehatan**: Meningkatkan akses fasilitas kesehatan untuk pemeriksaan rutin dan perawatan kesehatan anak, termasuk\n",
      "vaksinasi dan pengobatan penyakit.\n",
      "- **Intervensi untuk Keluarga Berpenghasilan Rendah**: Menyediakan dukungan sosial dan ekonomi bagi keluarga dengan status ekonomi rendah untuk memastikan mereka\n",
      "dapat memenuhi kebutuhan gizi anak.\n",
      "\n",
      "## 4. Kesimpulan\n",
      "Kasus stunting di daerah X masih menjadi isu kesehatan yang serius, dengan 40% anak terdata berada dalam risiko stunting. Faktor-faktor seperti\n",
      "asupan gizi yang rendah, akses ke air bersih, dan status ekonomi berkontribusi besar terhadap fenomena ini. Oleh karena itu, perlu adanya langkah-langkah konkret dan terkoordinasi untuk meningkatkan\n",
      "kondisi gizi dan kesehatan anak-anak, yang akan berdampak positif dalam mencegah stunting dan mendukung pertumbuhan optimal mereka di masa depan.\n"
     ]
    }
   ],
   "source": [
    "import textwrap\n",
    "\n",
    "wrapped_text = textwrap.fill(chat_completion.choices[0].message.content, width=200, replace_whitespace=False)\n",
    "print(wrapped_text)"
   ]
  },
  {
   "cell_type": "code",
   "execution_count": null,
   "metadata": {},
   "outputs": [],
   "source": []
  }
 ],
 "metadata": {
  "kernelspec": {
   "display_name": "report",
   "language": "python",
   "name": "python3"
  },
  "language_info": {
   "codemirror_mode": {
    "name": "ipython",
    "version": 3
   },
   "file_extension": ".py",
   "mimetype": "text/x-python",
   "name": "python",
   "nbconvert_exporter": "python",
   "pygments_lexer": "ipython3",
   "version": "3.10.14"
  }
 },
 "nbformat": 4,
 "nbformat_minor": 2
}
